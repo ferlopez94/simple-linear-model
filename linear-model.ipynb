{
 "cells": [
  {
   "cell_type": "markdown",
   "metadata": {},
   "source": [
    "# Linear model from scratch"
   ]
  },
  {
   "cell_type": "markdown",
   "metadata": {},
   "source": [
    "We will see gradient descent in action in linear regression (fitting a line). "
   ]
  },
  {
   "cell_type": "code",
   "execution_count": 1,
   "metadata": {
    "collapsed": true
   },
   "outputs": [],
   "source": [
    "%matplotlib inline\n",
    "import math,sys,os,numpy as np\n",
    "from numpy.random import random\n",
    "from matplotlib import pyplot as plt, rcParams, animation, rc\n",
    "from __future__ import print_function, division\n",
    "from ipywidgets import interact, interactive, fixed\n",
    "from ipywidgets.widgets import *\n",
    "rc('animation', html='html5')\n",
    "rcParams['figure.figsize'] = 3, 3\n",
    "%precision 4\n",
    "np.set_printoptions(precision=4, linewidth=100)"
   ]
  },
  {
   "cell_type": "markdown",
   "metadata": {},
   "source": [
    "First we define our function for a line:"
   ]
  },
  {
   "cell_type": "code",
   "execution_count": 2,
   "metadata": {
    "collapsed": true
   },
   "outputs": [],
   "source": [
    "def lin(a, b, x):\n",
    "    return a*x + b"
   ]
  },
  {
   "cell_type": "markdown",
   "metadata": {},
   "source": [
    "And create our input and output vectors:"
   ]
  },
  {
   "cell_type": "code",
   "execution_count": 3,
   "metadata": {
    "collapsed": true
   },
   "outputs": [],
   "source": [
    "a = 3\n",
    "b = 8"
   ]
  },
  {
   "cell_type": "code",
   "execution_count": 4,
   "metadata": {
    "collapsed": true
   },
   "outputs": [],
   "source": [
    "n = 30\n",
    "x = random(n)\n",
    "y = lin(a, b, x)"
   ]
  },
  {
   "cell_type": "code",
   "execution_count": 5,
   "metadata": {
    "collapsed": false
   },
   "outputs": [
    {
     "data": {
      "text/plain": [
       "array([ 0.9662,  0.3866,  0.9124,  0.9378,  0.7605,  0.7892,  0.7023,  0.5313,  0.7993,  0.8719,\n",
       "        0.1597,  0.1019,  0.6547,  0.7693,  0.7498,  0.0393,  0.7862,  0.7666,  0.8801,  0.5359,\n",
       "        0.5648,  0.0819,  0.033 ,  0.2201,  0.4643,  0.1745,  0.2137,  0.9439,  0.2484,  0.9345])"
      ]
     },
     "execution_count": 5,
     "metadata": {},
     "output_type": "execute_result"
    }
   ],
   "source": [
    "x"
   ]
  },
  {
   "cell_type": "code",
   "execution_count": 6,
   "metadata": {
    "collapsed": false
   },
   "outputs": [
    {
     "data": {
      "text/plain": [
       "array([ 10.8987,   9.1598,  10.7373,  10.8135,  10.2815,  10.3677,  10.107 ,   9.5938,  10.3978,\n",
       "        10.6157,   8.479 ,   8.3058,   9.9642,  10.3079,  10.2495,   8.1178,  10.3585,  10.2999,\n",
       "        10.6404,   9.6077,   9.6944,   8.2458,   8.099 ,   8.6602,   9.3929,   8.5234,   8.6412,\n",
       "        10.8316,   8.7451,  10.8035])"
      ]
     },
     "execution_count": 6,
     "metadata": {},
     "output_type": "execute_result"
    }
   ],
   "source": [
    "y"
   ]
  },
  {
   "cell_type": "code",
   "execution_count": 7,
   "metadata": {
    "collapsed": false
   },
   "outputs": [
    {
     "data": {
      "text/plain": [
       "<matplotlib.collections.PathCollection at 0x7f43781ab2d0>"
      ]
     },
     "execution_count": 7,
     "metadata": {},
     "output_type": "execute_result"
    },
    {
     "data": {
      "image/png": "[encoded data removed]",
      "text/plain": [
       "<matplotlib.figure.Figure at 0x7f439c27a910>"
      ]
     },
     "metadata": {},
     "output_type": "display_data"
    }
   ],
   "source": [
    "plt.scatter(x, y)"
   ]
  },
  {
   "cell_type": "markdown",
   "metadata": {},
   "source": [
    "And we define our loss function:"
   ]
  },
  {
   "cell_type": "code",
   "execution_count": 8,
   "metadata": {
    "collapsed": true
   },
   "outputs": [],
   "source": [
    "def sse(y,y_pred): return ((y-y_pred)**2).sum()\n",
    "def loss(y,a,b,x): return sse(y, lin(a,b,x))\n",
    "def avg_loss(y,a,b,x): return np.sqrt(loss(y,a,b,x)/n)"
   ]
  },
  {
   "cell_type": "markdown",
   "metadata": {},
   "source": [
    "Next, we forget the values of a and b, and make our guess:"
   ]
  },
  {
   "cell_type": "code",
   "execution_count": 24,
   "metadata": {
    "collapsed": false
   },
   "outputs": [
    {
     "data": {
      "text/plain": [
       "11.3334"
      ]
     },
     "execution_count": 24,
     "metadata": {},
     "output_type": "execute_result"
    }
   ],
   "source": [
    "a_guess = -1\n",
    "b_guess = -1\n",
    "avg_loss(y, a_guess, b_guess, x)"
   ]
  },
  {
   "cell_type": "markdown",
   "metadata": {},
   "source": [
    "Then, we need to define the partial derivatives for the loss function with respect to a and b, so that we can find the correct values for they:"
   ]
  },
  {
   "cell_type": "code",
   "execution_count": 10,
   "metadata": {
    "collapsed": true
   },
   "outputs": [],
   "source": [
    "lr=0.01\n",
    "# d[(y-(a*x+b))**2,b] = 2 (b + a x - y)      = 2 (y_pred - y)\n",
    "# d[(y-(a*x+b))**2,a] = 2 x (b + a x - y)    = x * dy/db"
   ]
  },
  {
   "cell_type": "markdown",
   "metadata": {},
   "source": [
    "This function will make a and b a little bit better every time is called:"
   ]
  },
  {
   "cell_type": "code",
   "execution_count": 11,
   "metadata": {
    "collapsed": true
   },
   "outputs": [],
   "source": [
    "def update():\n",
    "    global a_guess, b_guess\n",
    "    y_pred = lin(a_guess, b_guess, x)\n",
    "    dydb = 2 * (y_pred - y)\n",
    "    dyda = x*dydb\n",
    "    a_guess -= lr*dyda.mean()\n",
    "    b_guess -= lr*dydb.mean()"
   ]
  },
  {
   "cell_type": "markdown",
   "metadata": {},
   "source": [
    "Finally, we call the update function a lot of times and we can see how our guess for a and b get better:"
   ]
  },
  {
   "cell_type": "code",
   "execution_count": 25,
   "metadata": {
    "collapsed": false
   },
   "outputs": [
    {
     "data": {
      "text/html": [
       "<video width=\"500.0\" height=\"400.0\" controls autoplay loop>\n",
       "  <source type=\"video/mp4\" src=\"data:video/mp4;base64,AAAAHGZ0eXBNNFYgAAACAGlzb21pc28yYXZjMQAAAAhmcmVlAABdTG1kYXQAAAKuBgX//6rcRem9\n",
       "5tlIt5Ys2CDZI+7veDI2NCAtIGNvcmUgMTQ4IHIyNjQzIDVjNjU3MDQgLSBILjI2NC9NUEVHLTQg\n",
       "QVZDIGNvZGVjIC0gQ29weWxlZnQgMjAwMy0yMDE1IC0gaHR0cDovL3d3dy52aWRlb2xhbi5vcmcv\n",
       "eDI2NC5odG1sIC0gb3B0aW9uczogY2FiYWM9MSByZWY9MyBkZWJsb2NrPTE6MDowIGFuYWx5c2U9\n",
       "MHgzOjB4MTEzIG1lPWhleCBzdWJtZT03IHBzeT0xIHBzeV9yZD0xLjAwOjAuMDAgbWl4ZWRfcmVm\n",
       "PTEgbWVfcmFuZ2U9MTYgY2hyb21hX21lPTEgdHJlbGxpcz0xIDh4OGRjdD0xIGNxbT0wIGRlYWR6\n",
       "b25lPTIxLDExIGZhc3RfcHNraXA9MSBjaHJvbWFfcXBfb2Zmc2V0PS0yIHRocmVhZHM9NiBsb29r\n",
       "YWhlYWRfdGhyZWFkcz0xIHNsaWNlZF90aHJlYWRzPTAgbnI9MCBkZWNpbWF0ZT0xIGludGVybGFj\n",
       "ZWQ9MCBibHVyYXlfY29tcGF0PTAgY29uc3RyYWluZWRfaW50cmE9MCBiZnJhbWVzPTMgYl9weXJh\n",
       "bWlkPTIgYl9hZGFwdD0xIGJfYmlhcz0wIGRpcmVjdD0xIHdlaWdodGI9MSBvcGVuX2dvcD0wIHdl\n",
       "aWdodHA9MiBrZXlpbnQ9MjUwIGtleWludF9taW49MTAgc2NlbmVjdXQ9NDAgaW50cmFfcmVmcmVz\n",
       "aD0wIHJjX2xvb2thaGVhZD00MCByYz1jcmYgbWJ0cmVlPTEgY3JmPTIzLjAgcWNvbXA9MC42MCBx\n",
       "cG1pbj0wIHFwbWF4PTY5IHFwc3RlcD00IGlwX3JhdGlvPTEuNDAgYXE9MToxLjAwAIAAABSSZYiE\n",
       "AD///vdonwKbWkN6gOSVxSXbT4H/q2dwfI/pAwAAAwAAAwAkAvzHv6EHQzQgAABRkkpUkmIiRmAh\n",
       "sP+ebxUt65SzxgV5BtAtfEw+/RTgAd48X43c8vDOKyJ16Rb4I57ikspKAdLwEk640y9hTBSnOt2G\n",
       "9BfCLxxHiE8R2vxbFfhlHsSYn/lgrj+csSHqPXWFIiuVSUakG23Sd4x/QuzaiGTNOsTcfHtp1c0F\n",
       "8d5p56QHO2NCvcPN3PdVxHR9zDztCTRMa1cvsz0Wia9wbxWyPEkl1uYb9aBB4/tU5poFCuvHShco\n",
       "3a7c7om17M/ZBYmhyGs/8BlPYlj+qRFYdaSTehJPmDjiNfYwYYgZ0OgKg0IAb4umbOLxknLQxTYF\n",
       "sSqVunUY+4X0GOrZsIi4nhgefZFUZzuxtJYaqN+zLpU7mwtjyb6nqWJAiTgPxV1llZ0kBl6id5mo\n",
       "A9/8l5+5eBgRhPqanzIWhiXlS4fjCKvL64NEn9DfqXGhLX6P/joX9XVqsAaRSecfWtb4QNGayaMw\n",
       "eHbpNVCE8fWdeD2JhNhKfx9ynuuvSBlvyz95nVr21+w22NEXoUpgf6ZaT+sHMAAad4vgsTGa/yUe\n",
       "8DuTaTlXQ4PY6WVz1D/a/Grqv4BqgZyMbnfplPvjvzgA5Oa04jadaIngHqkXaaidY7Frvt3d2z0W\n",
       "ldQq2LqG/RIBWuLUt3c6JA6qAdhtGHv8vWae/+iKRxtBHrRXULM7WF3YAnH+x3K5IUFA53Wzw0IZ\n",
       "AtHP7UbCdQdC8JuX55yqBppdytwqNCb+TV5gwE6RLOhSDOvk/sx01h9C+m1SlCYW0M0TDXpeW0dC\n",
       "vJQnaSgEeaJW1ju8rO5KYUUnJPkFVwnONzWwyMjYt3KaVSCNp3PFRMZCYDmh3XaN2RVUc3cHfZpx\n",
       "TqFWsLjTOSn0s5j0M+FEf/zLu9WhdpxvwimvY+FJjyJeRNGGItODtzQJoApi55ejkvtD2t3aS/Z5\n",
       "ypkXLoyathdi/0oAlHix5yKkhRUATvPr2dlUHiWz9Nr3fs/KFCnGf9wmqHnOsFrre8D7tbFFk2ET\n",
       "uNmJp6uqJMdofIATvAfWQMfhUYH48qqQCL0flmB9EyEoDr+mF1qBnq3N4mRQLtUIl6cCVjcFvxvo\n",
       "SSvBIkp0tssUZ1jKI+OHfTl730Vl1fdLJLfKUww0GYO+zI6Yn6mAoPrKK+PBmvqMSr3QIzrCLQUr\n",
       "9BFILHxEZqQcLnWYtzLVDE7kPfg8EaBapnB/MqZOwtfkP3UCzuapLNiDPAd7wLdLwYqr7cZFAmQo\n",
       "zEN0x075vQcffhzeGcoZ4HMyAXEY1sV5k6FWy/D0WcGA3Bnd8b69jVaKffCWaCWGFrCN9WfqIynd\n",
       "O2lB0VYrL+AnjmTcOPcwvlm3IG84r47wFPkY844OKmGwGCfwPYrsJzObMrGiMo9h19wT5cnC+3iy\n",
       "7RjC2ylyUAsn5upz5Tc/sw4KMt5S0pdTvQFfd6HgCStbhf/MTQ5qIPam404fS1MzAc1PAXrw5AVe\n",
       "Y5o7QZl609Eb8XkjZ/hroC5t+1hRX7hONN25F5Qdm5JbARsAJoxHhq5iRrxF0ntV3kcCRg1Nuu9z\n",
       "Hd1wC+iMFYOWCHuHJIcmC7WTdXiFsR84RDyviaUVPAmHGrUOQABj/8JDcusgzFDXQccpAY/XtdLx\n",
       "QX3ZnlWRGeEw+bE4nDCegb97zKWQm4TjOzxdG0e1JffW0K9Lf08S/iVT3CYCvu6ftAYv9OlQO0tU\n",
       "mi1uK7Y9oFjmQxyghrWZ630dJ9HvfPhWRoXQLpLHkEtvBOhJFKK0TLldEMtY1RUfwoo8kSv81yuW\n",
       "C+AKdRRtzteHbtQ+lQAEeSrd4F7XDyBieNXgQ+43ECAMeaAoSI5Xu5OhQzuaP8+E1+UyHztOsSgH\n",
       "A9VdTdZv9amhdPGkgS81IH5B8Dci0Sj6377XcoaKUHOfYlQ3q7nvij7r+fDDUWQhxUnStewYBGFj\n",
       "Bd9XzmavF5P9px6TQKbQcBzZ7EhvoheFuOg00WEVMqJzNG7UtPuxOCopE++s3YyGG+c4+/PAMULo\n",
       "qbGtSz9Di3T1e9wn1eTHkJ/GzIPddox8Jy3YJocJXNGbQf0UfC26eAGApLknB2pFLzTIJTkY1XNm\n",
       "GV1tt6XM4E4Jlno+Xj+jPHjXTNOFIvVy7jvz32/e9qqOLR8yeXsxmtNxBgMuitr7zRH4/NcmM52w\n",
       "46+NsBs2YMIeFLxnaTO+aYnnp//EpiyjNjCn+oXeYXNQipYv0wmLkE89ihnLOX52q5ehvmoxc/vp\n",
       "JvvcHEFzG2KM2p39ObmAVNzuiQIf+IKWfvAeveH7iDiKTA0BRy7eW6aTHQzUskZ1gBqHNmY2ud02\n",
       "Xv7vag2bOx/SioNIDAzgzVIxM9uMmPAg/MpoZ1fguSq/IlA3m5+3ZExLlFQ0BHxNzZrp7v/VFlK3\n",
       "WJrfsYP9bqIJKgONh/z/r7dmExIywQNdrK1P6m4k4WZ1DrWUwUY1f+dHo2oUnT54fwYDt3zMHEPz\n",
       "dXeZlTsQmjyZipl6mx4p17d1lRkGuVR3bIi46lySHnn9pJYjcawcSSSelFVnyMrx6nGNjCNSemhu\n",
       "CrrahEL0rWE/9qQKM45UlOEOKyJFx35i9pFiVXa8U7AnVMjXj9WQqagcCiXf4yLTvhCWC/68D1oL\n",
       "+y1o+JlVvMyMelu/iGbdmSaAFmjhWIqSPoSwmqGdiSdV179+jicKxDt8Gq6lEypNTfC6dNvy51Xp\n",
       "RqFz90SCjag3ytOnAnhDoRs2mUF8d/J0dvp4z8qP9wxTvmBCaiDcYV/UjRSkVHWw8v47nmdS1GQH\n",
       "0xE/3Noyt0RD+UnLBTzm4uV2b0Ks7RAyZVnwei/u2VShUdcbUbbujq0P7DR5Hfm9pnBJi7eIxWFz\n",
       "FLEWZy1OwIeKdmG90ysXvfpaTcy7ytWt5dngAvmRE+MR4P/vfXHIJVkpyREC2IZD/GEicuMxI7Hx\n",
       "MXb80hHU5JnfIWskno+KqrU2iepfxmt6wI2CG+d9JHmXgDF/rmPecSiJsDqi0Iaf7qbpnqPWLCSg\n",
       "m5U01CDfbCzZ8g6eoVMhIhD19wJJdogcxmnPhpq6ZqO85z9lnH1ARPBsac851AAK4ltGXfevnKU+\n",
       "bVBtAZehm5X1hgP46kR6yf6AERYA34b7yB2+woZ2iD40OXeqwcJni0MonaiMaZKU3g4GQlZJjC8M\n",
       "0obaqJUw9XMbOVu1bLcHx3mGrQ489c5YDMbg44hKIkZg8g8BclrCDjWauF/5cI6IwgE5tM9Wzz/H\n",
       "PYBBgKKYsTLofq44HO2jIdilWgb/476tFfBDZemgD5nq6PMRfNLKENqweTIUkvc4kghRqwQADOaP\n",
       "b3uNBEXp4oWyz+3GsFn2LlCo52QCmQGEAU59OhhoiPb+AoAUc6UN2qesPuNDEgXvr1fZ11AoIlaF\n",
       "Wi+e44rQjc6pD+ezKvrjEyb92uUQS2EJOwPoeDNRgFWfQ8S/AKJwWxGfKPKxDSdx0BtUyaYubxMS\n",
       "g9XEt3ThL+Gh0s98jmmo2lACR0ReV8kpEdc4AHahnDs+ILnI/POwqQoTrvtEml0q+xkjuheuMDiB\n",
       "AFCjZLo2FoNwDcA6yUYTSpBO9U4JZykPv/tSLN17afxikfzb/yEUuT9bWbMQmVsuqM99dMjjXNgz\n",
       "oHtJS00J0QDeL1o9ntKZ3Fmbn1mLWJVj4Ajo9Xsk96/SxuHUFljy77SuQ666NSDFapceU9zwqEH5\n",
       "vlyyWKkARVhfOoFpJ9ZSHXSho2ie8Bec/GbrIHHxFr9ijE26MtzxYNS4hOKmHkcSJyXzhjLO8kcO\n",
       "k/HrJfjbwopldMC1bvVLzp2hEFhW8KhjF5+hjgpsjPzVj3zHJnnAcwqZavNx6avUvl5/ZhzmhQkG\n",
       "aS/Vn17M4R5uSrBjHUJQgQfMAvGTF4HCqWujBWKhrRNc1KuAJus5IGWJ9KVziFOxqikALb547/lr\n",
       "ZIsH5H3MWwgWgG7WHY2276jpxcT1XShzAT1gWCJ+uCI8zOmTdMfr5qOHToDHP8Qy7LqIX+sDFfTv\n",
       "y/c4icjoija3bsd+2+/8glnc/hgUd0o0SrJ//5IMY7FVuu+z8H1bFs3SpWXfGF4saREPajvGeTKK\n",
       "K0p6MZtFXhHxw5RrDAm3/RZJlGoBxxqyfhilyO6fvbYAvgjYFMOsd189SYZdjedXe/bCs3O36of5\n",
       "sUjXJkCucrI008q6k+KIBLcHe4i/HZHInIB59kfCnD6VWQpQ+aMaQ1OjO/bxyBJuIsTReJt50l5D\n",
       "f1l8PmoJZNc/QQ6kQ0V762jox6Uxv2JIgE0Vf2/xCZ8CPPyd5pNo6gnyR4YKdH7KhUiguii5NUUS\n",
       "5B+7opj3tUtzxvvkELIkXqI5Snwv/EntR0ARNRcSjLxpBpXd4XBsPpPp5b+vIaMALqZUGVPTfIMs\n",
       "f/IydDguphzb7+FchB42FDqqzhFgq2t8UZI6zZgnknIAz7ki+qBtsEhm6NVXN7foT9C4Uvy6CoTQ\n",
       "zGes4Cu9SEv/A2OcpTFUlJsL+6hZpQAA/tlR3C8SLtzmw24/kKho8WcLCn0XuO6CqmZJ2udD4Gtu\n",
       "klSvc5JrvxAK8iGNlRxv944w4192O9aPMy8mTnHpQzNAykPuWATet9WYGl6BNXcz2zAlR6tuy4rk\n",
       "22Q6D+F5dlFW/hgLrj9ZisXBok1R+lAAMZHd0fbSu9tWGMoAoBeBB2b+gFssRZgfeymFwpaol22D\n",
       "m4y4mmpwlJ1Uua2s6fwcdxAWW5X8yZxd6aq++g5Ps0EDfp3ADPyaI4yMF41USuQuK/ebbIuT2hFz\n",
       "6A/emKSn/BIH3EnuVVmEKBSLeaZzvTWAE9rJsHtxMqUiuAiheMJGYLC5C8hDsoVe7P1ZorNv1gq7\n",
       "OIBntuucUUySuZFfy75536KfO9TBYUGLC3qzjwskXxbl2ZdJPy/vqZDdb72ac5pIyOnClLlS5jOw\n",
       "65IKwj4a8MNcWM4rBooBb0gZEhShfuR0+yx8lzD8rUhKgICYF4YQ3JMANb12rZQK82xTL82v9DJ5\n",
       "7t0nVO1OMdiazkEJeFBKUh+uLU97BefpvH72tk+7652h7yZ6Mil5s3N/3LuVuWLl99jd3u3yRk/5\n",
       "pyjS9ffJbJAnWJKoq86w9czMjYialFhvCiTIO/dMqcUdS2Xu9+crhgEr2CkwLFDfkDS2wHYgm+b0\n",
       "WuKACfDLBUYCw706z//8YNSKBFkcqyrCeoUNJOtWp9ePchxHPtAzYXsnEPIakxL/823BQW8BRa9u\n",
       "5BdBZ5JMaAfu7Kmjnoi5JkFsyw8TVoD/vDzHAqPxfO7k2vl8BJf/bMxq//qkFffgeGe42EZVHFtl\n",
       "qnf63ATSqO5OQKSfgKOrOzmQ13zW5FYZ92Xj7a8LLiLtdvxfxQlAULkbPPPkDtiSX3z2xc0MXIil\n",
       "N7NAXz/bGPBru1IRCJ6Gay91t6yRIiIsL5tLKiGTQ6zuphk0EWtg5tlJ2ubAoo/Jw02Cym09vWxl\n",
       "fanc75XVuZnME14gdwDZ01mAFfR32d1SYpWb525RYGT6U5B2tT786+kEutzS9R6Y4nrUmD1LbZ7Z\n",
       "JTcE4bGkRVWbrquhY3W26/BqHGgq3UJaTBO2wq5QHhfvl7h101RVoQ2RhY0TjpXL1pZbKAmt1leg\n",
       "/hVf2FvjSv8EmJ7RbgfawA5Twc3H6WrpP90HGOYmuIhsxCqtLzPdruUQi0qIwivVXqv5rBsV8WeM\n",
       "i3m73kwjikPhCB7V0275Fl0RNvfk0eWv3JCjkt5Q6yW3VgzDhJLJk4WdCva9/hR/FXeITKM8p3hR\n",
       "Bv2jPfJhzM5BwxBYP0VuAbNrbrm3iQnI2CNtK16sJwsxM7ZR4PnVBkAKnMiGepnuyLsf0hIPUNDU\n",
       "RxL7m0yaLeBqteqeXoBmKFhX4qeLxXpkyw9kS8mOwB01zqczV2UHvLcEivn5oX/rrl5P8NAJ5R2H\n",
       "2hpbsZYqpmopR0LqUbt4FF/8jRPtzRgIzrfPSfjsJr2bTeBgnr79JB4spv3panGHSn2u6zcov1Y5\n",
       "3uggjYnnyjwqTY/RGIoTvnF3GkKSM55+StIfQntNPqn1tEiguYkXy8dhRy4k88S0fqD9rNmdbT2K\n",
       "ihGMyZN6Zfri0hnedtpn84bdDiNBEJbWEf+g2kaWkcGaQzC2gd/GTezNs7AlA7mDjxrk8VEIDm6B\n",
       "EXBBQujlVdDfvOzhLHWo2pnASV4uK+6c1bvRkJ2k71n9J7Ls58qDuX0eWHO9Rr7oOjjjxgmCPi7e\n",
       "5IvfDHw1qP+bEkVktttMkOUjR+C4KlaNRcCk4xVgG7qxJQESZeFwoS41JonuYe8OC71OheSTjkNO\n",
       "22pGv1h/hJDV7n6V4syU3MGAnJrDs3XILatdctOD9ll9TSI1nzeMvBqaUf3VfqihbWlxAD0yBMtL\n",
       "lOsDvpBhGTHJ5mR03/MLVuOd+OqPLwcYb7IW1B9qxeSqfWbkEewS9xS31jSrJYmeOGPFQFPkdz4c\n",
       "nKaJOAw0WRat642IjuyCd5DXGBe5Dp2qb880oZltGQHj3Hqmwss+ELlctgCq/lQlkyF0i7TGLVEV\n",
       "EKBUFRZMcm991O5oxQv/K1mdfFb6bHUVb0xllQHCkAApQKXzdFmawRHqbFFjOAMojL8b9FhBDkAV\n",
       "6wWoxBFS5WjBIaiqAPUxnxEbVIaaY4G5/hOdq9m3DnIQcZEF74x4MrzOgv2tdCbYcGeRD4eb+NeE\n",
       "pnAedt0vl4y+HUSSKH2YK3diupUonkifEw4VfWdqzinfH5vfQI8hOp1mXu9/9YmztWrRfCFhf7R3\n",
       "BwYlZYaZ2RcEx6NDPHe2K9tn/fQEDxKszttw15v0KE7PmzSDb+vd3K40EKewPa6kJeLtFxe0d90T\n",
       "tAfSrdkqmo7r8ooFvZ6bQVs3VuCrou0tfG73G6Jtf1MV96Xg+Zgwz+KWNKxx7yo2fQ3od2OsKCjZ\n",
       "0jPz5FhiGFXEVZAUBiX/Ms9jMohMJ2UeimX8zmwtLoK4oj7GEqd73dOZnIzXHkyTJoVKWY6N2v0A\n",
       "ABj/NCBgTKAU1Vip/KhYbGAB+wAAA05BmiFsQ//+qZYAd1fLwEEqk7YKFe9+yn2Q61fXWX9v9Ur9\n",
       "RRi3GTToADTgpfjDb0xUv88cXAzM6hl9RbWaYrpFe63+5/ExMnd6s7jf+P8SP/yK2OzXiMjaLY37\n",
       "vC09CwpsfIu5/juvEDL/IAUjl7wFnhzq9DqWY9e6DLepppRC210monVHAA2dRSoM92r0D+Hhl5Ch\n",
       "TWSu20dHuDOQcfVnPkN30M+FecIvDn3CF6T8tkA2DHIkomiJzFjxhOAtpf+b+SxrJNuAUHJOASXA\n",
       "p8xNHI6JlDJGz2Tp53/aP1qIXVvbHKiQiQpkD/qJ0NrkGu8ynP3VdhK9REm0HvymYEOgk5b+DDIc\n",
       "A+qITw5D2GNz6kw6cIqywB29Y+BVxIU6u88V9QfKKIo/h2stxLTjwhIfREi97TVLY/vTfxW0WlH3\n",
       "fEqpCYoQFyCJrdAs0CYV6u2rioxWirG4A2szFZXBHwvRLbTgJP4sxcZR6TEp1yr1cl6vpgx2UBz5\n",
       "NDHVNXmKzX5LgoUQDlG9tUDn+sQezXB7SkTDu1KWTWt4v9EWpXGjTTAUcbrztcaeYAZaAmXOAjgw\n",
       "WjUjBSb5Ff8Tk28jUWusVzYx3xaZg1fDqNrQ8CtgKOEXBdYihq/wfEKFY8D37TAtrtTmlMvrd/E3\n",
       "vQ5A1p/ZvhHeyPPwbRbaEWRAeCtZHGxXUpd4vOHzpiQp8cqSqzHzH8RNiZsi22x9qmcV9A7Z0GWB\n",
       "QVzp/77d3Gruve7isiJWLMBRd3Pr0jOAGyK8ASa4KQYSNILUd5aKKeNRLoU9FvyEDVTuFuDlN/+z\n",
       "HX+CdHb58DTQQcxD/gughEC9ykoUnbpAgefTQ8IFIqj0OUWIpGjPKqVX8Hg0Y13gZ4Z1OKGyyB0K\n",
       "wznxoJVynO4aqa1LES+7yqNEODlo6xbOOB22520cD9I2NlfmW2Qg6KPxxI3tZDKbFCnjO60byjUh\n",
       "DyP+S6qAEnVkXa1R+Fxg0CSGDi4RaImegOZCGyCIfs3OrQJaSj3lXeXoHVqIUdITv8nSQcyhaIoL\n",
       "GMl1ZKFoougx1D8j5j54wAAAEBtKwCugbEkIUw0dN9VnN9zLNrE0dG2cQg/t3bESCnHDUlz44pNF\n",
       "aBsdlwDkcEN3qswxo7YAAAOmQZpCPCGTKYQ///6plgAAKlzmwF6jhUc/Et+Ec9vHQOf8xh41/fLv\n",
       "k2yvVg86Ejb0jYuokc+GNP/HKMMQr9yl/EZIPlmhrRS1zUgmCgmzMQgZN4WdhB7sSxI/Yy+Gcotc\n",
       "slx9DuVvM6ryZjCm768CQGhIPpMYcf43VV9z5AIfUNg0UGBHqOeCdn37VOLHa5ttKJ2wagnYUf+O\n",
       "mRPLLo2XBD1NrOIlk6FlIZ142mof4LZAYDvGegIFmrMU7e+MnhAxFS2wby10vKvMmlpgourFwNrl\n",
       "REgRQAeHuhW9dNsUCQmwCeimrMvLqvqK6tTQwZ/XFGz8zIyKVju0T8rZXptWpyEi9scHul8q2gWK\n",
       "M8XtlUlrGKoMw3jSDcZ/Gfqy2Gyg9Z7PEBhnqFgk9/08IGTq9l1wWRldHXvBkrNqD49x8TuXQqLq\n",
       "htvSToHwXJk61eaASkNTs5sp7KQVHomJrmpXJv+UEL7G0X8TFdzSUV/AQ90g2HhsHl05RYUBstE3\n",
       "X9CpEVsSJKd/TaZwCNGc9LMkqB5fp0lkewHkWbWr5VIbMOp+MAYkEbjUXgmutjt6iFx2Jw/Yu7Vl\n",
       "7Povhi/x31rchpX2nyZVMdqPoQe4Fiwciv8bf3mmI3iuSjnvd5f0QDN2WRtnATeefXOjXWLw6P3E\n",
       "A8j6Z+LHHgAZ6fu8uiBhClPFB+og/SgDNljFSbflHUZn19NvuhNiqujL72uXfN3/UeXEjyg7iKL+\n",
       "OVQnRF/PFrs0hzBf3UBd1sLqXCzDy9oLomQz+9AiHC11Kw1G7wnNuh6RFAMvO9ah8+hzykGh61AF\n",
       "vDuH7RLZ3HIx8OvxyNzTAbsDrzqeyiTqfc9wA9GbwObESbQod0/VRW7OYDd1f5qGivG5QUh9qgR2\n",
       "F1l+v0OPuHthpAo8RDgUTO/DulrU+4Ay7XourQwjOjokXjFsLkINY1TkyZM0/LfSDX5HtItWFkI5\n",
       "1PGh3ySCJ7sZ9IM/qDwtwg8ymTBLEBhNbJV1XyFJaRASLxS9gVkuckOR9aaFtTyUVMLC8p01DlLI\n",
       "/QiCJUG4VQAiXc6KFM8LpSFv8dDieMSqaKo1MYIhLW7MUAkMLfBZvcLaCnMuVvUjYCHsKvWb3RO/\n",
       "3aVz+D2o6IMkXO7KOBF6cid93HJJ7pJTrX46DnpxtmVe5ijcomaWfYB9O7c9PkT6yQY63zXy+TNN\n",
       "6soysccXBQ/sZLd7TK40rb9PVcPqV/yjR7RwAYlNcWQAF5VKCLPObwAABIFBmmNJ4Q8mUwIf//6p\n",
       "lgAAxmz/4fQfVABzl1+iF6l2z7nDSui4tjzimRPwYkDbrgTrYOLvJ7yZTCosv7O56fWPxIh4GsOr\n",
       "bG3lN6sn+6B9rwudeHxWUZAjUvrjIRr/We5aMnCIlfBNoC/4CFzgvDt65IYS1Gwn/w3gRHKhto+F\n",
       "q9Yopq1jZDc6zlidhanw70nA8QHuGrRBw8ENjhL5ubqVlCH6c5+goXrsMC1eUAIFzzHKUccsv0+8\n",
       "EvaShUR/aK7UvyqSbBdunXT8GtBHqviZZtVSGVLa4s8LzbPpgT3SmRvnoyXFuPlsd186AzfHjyZL\n",
       "y6IU0QiH7XqLhInRTjcAJXf+FYmjZJezJl1iLTxxdbqyOouF2awYfjculkxXlYSfEzDUHSdej19H\n",
       "ZVo1NX7O5KfDVchoGo4o57HF2HcnggOZb3EBtvOV0nKONIMoioRIx+1xrXE0SYlcxcjT5VCU+eu6\n",
       "XRBiA5dP7HRf0nnPaYos1FVDNHuk2py+mCJ/ZT4d6FPH+MVhGNT9I0Z0ulVgv7Nw1sJWKBoGrT6s\n",
       "StO6M73LKnHaN6KP1pU30N7jBr2hJTVk6lliiIKLVpAzaMag2S/DU8hSHh6F4BxZ46/IQZ41sb8c\n",
       "PWE8hL0jrR8CcF+HgAbsTUtirwhaTCRo+B9Rz/bTWOaLeX7d7MleDuw2WZ5njxjKYda4JOX9QlKH\n",
       "5xBmq/4Dk89n/HBjcDjguuwJgS7P89WbE625M6PLxcBp5NYthQ/0nZVYqmqVn9uJpnp6Ysq96trV\n",
       "8rtqpELG1EapBJTB8jWMP6LTTVnqja4mWfJ39FAy86kDceh5TLqyxVhWISS5BbS4cJ2Oof+HYkAE\n",
       "QZpakod4wtXiBuHP+g8BjEajxiMcZW5L5eSwFSWUW8tBxrvt+PYOSGUHPTJr/c23jCFIj+SJw2hO\n",
       "dA+V6oL87xVqr8Sgxy3vcYpri5j4xRt3+IUyYv+iZ1xTOqGLxQrT3fPwqE7La/Il6PfimY3B7wi4\n",
       "Zirh1gQI8H1rNv/cjQl5/R3tHYSKyIdTS9gPWIGDNhMzoHlrGMocwgTBHopaHz824/tY4/afWcvw\n",
       "Dt1qpdbv8qh9bU2JQWOs/f0xvHsHUmsACGSSkJUReGeGngoOM0Bvw6kDzsH6wXaIp543u+CZ4JCm\n",
       "0/7xFP7D+P75FJp78xxP71bAzKdxTGW2yRoFwZzYMaiQGLljtrj8iXRNo/rXWkPWRtduUzWh01F9\n",
       "4LLWeWJb8AsHk0GvhCOTE+FT8NlTubpsC8yfd40ugIN+poviRxyc953nd5ndvYortffxG8MxFrgL\n",
       "re+KbQNCdtvNxQ1t69wf0xjd9fX5Prs/Vwm4rGkrnkMtGIhBUU5u8V4XE5Aou1MR68yID2b97EUm\n",
       "MBTvg9ycCv5jXktA4pxpecA9R0X6hHc3RyuuQM/vPbFngUd6nWczVHB3R+OSybwgM1jCCLewL/Z3\n",
       "PWm41yGLcz/QG0N17r/jYw0HuG0nh4IaRcYLjcklr2BXY72R002pkEQkMgodWy0AAFyvikqVQBUw\n",
       "AAACt0GahEnhDyZTAgh//qpVAAB3/6uEFmfpH1+Y0aQyzXxJo/3HRHdgoFHUDB5hPZ836xAhTSCP\n",
       "UbE/FLJy9F1YfJZsSIpH5AKXZnJ2SdUz5Ig2xdiTzHdysZEyQfNVCEYE17zAIoN+04daZq9gc7Vo\n",
       "mEDetcTftFj8HqpHEJNoAdQHo6n4TohHSm9s0N1RqP0B8/UUafXQKpsjp1vfqWON17uguEhnXmPC\n",
       "DZqCbD2O9DsyPz/8UVJgIokLTUctcnQ5bKhQgdDCAayzjpjP8926DpbtK1ZA5JIsIbvKbn7kdeLa\n",
       "3kfA+KUw935k96ZwRDe9RuOiuXVMB/B/YLHd3INNmBecIZYYZbwkajQCyMUSbAr7yv0ouOxHyOXg\n",
       "02RWtRnP4PNU4K24+ZsGJF4Htb6SNBSYrZy4Kr4NRXwbdJnBXQ19OhUp9qVJ3PZgFb9VgZbhlRLt\n",
       "i6p44Azf3LIfp5vp4QVhy9ECaNkpWvmibbwnTVHo3l1m7LU6KxtD6MFtLyHrwFK0OaNY7gAfxuG5\n",
       "xFyBb8KEbeqbZZyvgtfKTP9M+2RprGfFUgXHBZ06j9g+n/JyDQEyxfrELDYmPT+Yi9DokFDIz1cr\n",
       "r9747nDHRzK/JalpoUMdqmtZbgP7WpRRKvgLY31HoQ5bO2hxMlErG+3HTdIdzXqGfUM8UCC20j+X\n",
       "KCOAEX/yMQj68Bqt8SXgmMYkRzliDa/wCuX6L50mPlsESWvzCLdtGsSbQYGIEk8JkIxNSl5F3f5k\n",
       "eLqRJUtmHHmJV+7Hoq/mOzrvX63ttYbVrvyBgZRZ/IuaFYnBYHgxj0sB71hGDyhPN7q62GJeJrx5\n",
       "KdY9Fk7+UaAkhrwSndJpVCThshWrFoN5shUfLugCBZNvIc5EiFf0R2owMldbMtMLQOQ+xr9IARRY\n",
       "eJeJpHW3MGkYv4CAZQwJAAACV0GapUnhDyZTAgh//qpVAAEIn5NDm0AAFvXmhH40LJjQ+OZ7RQt+\n",
       "nDLGpnbozDJ9tPFeWZc3lQA+jThaDKWrutOIyT0+wLNkfVbAUV+qLOMzte6RCct+Wdgsz2x3rx59\n",
       "ODmzKpTQjZmAjpbZS52QcuTMmV3LuOOZh5rQaHVucOX78Yu+N8umutjhNuyzpEMQna0xJ7kasDll\n",
       "mOyeeqSFgMCqcgXvGQlHtxfJ+jq15kHujffgwgGcq7P8Z3nDCxk5kx/2iKUmeiPZG3bJHbntA0gq\n",
       "X+9n/csXQDPEKMaL1rcvYhuVhUdIvVfxwh6FOxCYX9hA6puJ+xsqUckp7q+ush9diZur4uNMrAMP\n",
       "onebDiGCKfLUTUI2/HQQr8p9PvS2qrI1DtcQq+Y430EycWk2/7aRGQaZZYSHbBsbBUch0pKMxMmb\n",
       "gw/m34UZiF7u8YMZoA/rtPLdDm1vFpFhxz3DX5AftQJQPXSWBrwRs2ziTl07/fn0QsxQAC7oNaa/\n",
       "If/6hxCtjesYhKN2gYFUD1KY7qd9UsEUhOVIflPphXs+JJpJxgZbCjpMaEjnvjM5rlNp+zgWN+uK\n",
       "jsOdl9NUuLjEfvppnkDB1jwhQM9gtq3jOeo/CjWdrVIbYsW/rqZQiDgOodYv9EcjKCRgU8U3MYKH\n",
       "BB16SIhccFpsPP9qilV02jcTD1E27UjShGoT7DFWHXAFGguQQClc47hB0T4p8Br4ULs9Dgn6VAoA\n",
       "4ujIA5KKS64nr/HO17WToXrsJbct3M6+hQFmBlqAEm2RJJGRrnnk1TGXgACfEI/xAAACKkGaxknh\n",
       "DyZTAgh//qpVAAJQf/UAbhF5KlcffIm7y98iLKF9DvYXBQJwsqMT2RbjqSFuuwlOvcqnxZgcfeWk\n",
       "TGFeBpNAylEGIGFOESO7bDpatnrq0a0XqSnY/qaTjePPrEXKLimo252xNa9/GztLmanf+dJPCI8Y\n",
       "pbksBS1ak457t78gMh0/YJP5tSMa5KZ0hYoufff3PvCfzrkoBqfx2dyVYHXHPVpxWpBwhzcOzet8\n",
       "8gihz8SL5EC972UZwLTGq/uPynmAM57Un0kLat4OcLQaIR5b1R/YbFjo9vieo1D15iIISKdHghPp\n",
       "C8rzz35xx0ru766F2p7GeRFNGUgd+8iYW07mNCf1XrXBOUlgkWRTKJ4Uar2TdjYddEbS87Yp/QAX\n",
       "spEr47/fuYnC6dk/xQfX8I3yxOthfMb+za+3/FCv7S9ct+DsP+JU39XbjZZ+TND7fktuGHjf08Uw\n",
       "T0TIQ5tUPrUyMZgf0UlYWLhS7TXq+sbOqVJiijG4lnyfgFsFcYlbsW2XeVvnGdQiZeUMEo/h5C46\n",
       "ZLS36PBr9OrivsWCRSlCJlo3sfDJ9jd20vfoRZRpj2xgnlggR2qlhDLJKtx80dXj7Q1+0uC7sz3u\n",
       "z7rGfAP74V5z9TkkePt34ibFXhp3yP3GENp9X3pTjX3RQUmO3szmu4rtPLM6LVBkIzKGq02LJPY4\n",
       "tEP+o2hiGFR+Ryq+RwV1D1ItErVEprIwEClo7DTffD2yQgTdAAACHUGa50nhDyZTAgj//rUqgAE5\n",
       "BHXiDTIgBDli2NEn/BqOEhH/sOTJWyLZCAauKG6R2an0PCHdXiSbCVhLtfNflugMocyxbcJIYKAJ\n",
       "0Ekv/aV/wt+ZZLPVpEJ//PTt25pDuHTVIb6i1YerFtsILkC5vJjCcZ6XTUwXNz0Lepr1APq5zQOl\n",
       "O0WZh5/2FOkDrctrAi7OGKzBH131GyTwPBb7WBd9KGes+IwqB8UMvk5XvLJG0baQXZHz9VdRtPzv\n",
       "QscQP1ZHSXICegwwIqDCq4apItTrJBFE7uB57i1oJz8FcNHkMy/vCXeRp0c3KhXJAWsxvshV/fa1\n",
       "6bTDeVbYtzGJWkbK30XQZ4c9jSpGkFaaxo0zCri+gLp0LuiVJEUd5vufs8ktUwA3ISxxi2e3Ossv\n",
       "0DyIs343nDkn8YaAmbqg15cG0fB4IxQ0WoQ+ZSfl76ugCCXZMvZtHa8OTZEtjz8QMhZ1y3KHQyXP\n",
       "BU7Zgb8eCfQQbKg8rVwADA0uUPA+pdui88fusKifTKuodoBOfL6ud68ZgXCSFxTACk4+3Tt5NH5k\n",
       "zonyPsgJm97mzrDZ0jiP5noPEwNybTuunS5FGochb8sg0AIgTS267r3B2XLTctV2O0BleIn1yOf8\n",
       "Ha0Vs+/owAPUImNqQaEAkH8AwAgg3aGlhr5osb9jpNV3T8dE7TI+8rgJNp0AjzwXqPnvgFwsoadt\n",
       "JgYgmqZIFjsAhW0AAAPxQZsLSeEPJlMCCP/+tSqAAsxFGiAD+g6J//fwEHJPMFORMKEWiTaxVXzv\n",
       "V8h4Vo8oaDUHzZcrM1iDL0copKFVKlwysV22rajeHZB56GSoIPV3fy20gYSUInRLiHBmRsovHCqS\n",
       "jTp/M4PwkrmxZpY5c9GhxuTG8XpLK54St/Ho/SkFrHVlbNaCrSKwp+UopTUfl+87JMn7vYt4DHup\n",
       "r3hfjmXsaOCjYf2FIjXXA2hgfYGEpq45jEAq1+ZhqfAcJBMLeC7dPzbYOmBxroz9ps0PxAikbmbq\n",
       "gShuo/CkJtcMYCs8vgNUzkltIFvk9Y4a+oU7wC+/pTHIV8UXG018SwBFnDc8LA+RQxvp60F4UwVm\n",
       "XtvQC1GOHI80VjCx2VXTH2kt0OsS1qKgGfEzRyYws75ge6zPx8zlhxiZ6JJKaKWJZYJJKU0zu6zK\n",
       "a7C4zbN2KT/zZt6FweXhEbvoBcjdhiilgdFKRSZD1yQ4c8I0r2Mb5tmunB4A2oo7IBSg0dDAPFjJ\n",
       "WOV+BcYF9gSIrIzssOAhFcFNkFw5DgVslaref7jHUQ9cH/mdWdtpmjSsnzYprAJdUBD/Q7oQDjVl\n",
       "uVZ5VPAK2tOq4JwDfdzi7I5e7XfvyopwO3YZGSy+Saf04HqWbN7XNUFby78Ill89Wo3FrypvDYcu\n",
       "b3z8Z1VoSrtAJJHUeSjO9cPI0knV5cGPoW/hiQ33Gl5rqpCeKnXXMH4fDWXzjsaaI51ey1VBgf5x\n",
       "//eXzbufeHIulz99JCn/pfg3jU0UHpYanOVq5sROZXbxy8yLWnI1WruVzkO4sfWYb7ie1JGoAsBE\n",
       "r5bbR+O3wfie+EknIVvezrMz9SNyB0KtHOcRYcUOcqbsmF10UqLMztOkdfKsJrom82nbVj8HkYRd\n",
       "77W6UzPZIuQarXtEtWhVlKvVB9d1zl6D397pok9DnPRaGYzDjs2UFxwwACzye9JApANkdvsWj4Q1\n",
       "x6mQD0yVifRDO8z9fSkgvD++bwo33BxvjG0iOGkz+7WVWSzIN3g3JgsjcKFYCI15H9Q0uyPgV5zH\n",
       "r1MAU5hjbQw4Jdh/5epEW7K2nbU6IjJGWhNb2Vg+dccE+POo4qlCIUqOktQPJckyNhfmNxHshxvi\n",
       "l0npiKdwhXzuFHga8KYYFm8HhWmiPPvrHlGfKWAVQ6sFjvJiNeUg1vRdQuJMyyBNlJOkZYPWv70S\n",
       "NbpPooRXGJaDdJHnaurBdrNPVV9HHW5JOEXFXO2f6/RjZ78EDbmp7aVQ1ML9C2/RTngkMTGkvrxZ\n",
       "XDbXxLBzY9X1kwKoB6MVzcJyZULFulkn0OyDQOUftGRt7t8iJGZfV36kqqu6E7ZNwTNUAbitZQAA\n",
       "Ad9BnylFETw7/wAL5texy3QVAAB2lzsg/SRlJZOtiwlXzFCLLmCalcPRaK3tzGv76E9j4eRBXSvX\n",
       "XPwV5Z2zmlgRag46DHAAByeOs1x3Oy9YhJihWVSWof7dKc2PzYZWkCDxwICGaTQt4L7kFVNxZABR\n",
       "kjkhtA0hww6wIPxookozOAtkkdhGnpdBUSVkslNgFGgm01Qe/YA7nilf8WSN8zWYHiw7l+3M25BO\n",
       "zcjBaPPilcOGVM1n2UpZCZIZWmiX0Hu5JXQpIeDJpuY1AhBmij1PF9q5ErAgQ9784OAyBwIPFw42\n",
       "qO9Rgaa0jy7/7pv2IV5kddycX1P0SYtB8Mi7EzDoWp8T/T6nmoAiZ2MPTDkdh0NyT67IDVDL03V5\n",
       "PTwswECrYCoPxLtE96vPLl0661IXy6N2q0yv5C+bqrI+G0yKBmv/5vVGtBit75TiMjR/v6FGqSXp\n",
       "Vjym5u53gFZ9qsb1VOjEta7rqvgEdu85ngJuLbd5NueC0z1uE/Km+gsjZAZMbUgumIqGw8apm1Te\n",
       "yTWb45RCooSAVd49KIsU0ADDjlDhUJeCqRpJnlkrSCZiwCbLoSBbgN3iy2DuyCgrJf0PursG5Yx2\n",
       "YXcB5EQM+r/IuLfwJva/le77h7SQJuM2QAAAAREBn0h0Q38AIVKBf/5X/IXlsRgAvmqzgluMC+XU\n",
       "Xht3v/fCGVqDFpH9mwO97sRFuSVcVr/5JIYTlTsrsuS3XlHnykjKiKlKs7gXKpojQAFu9v+J1rsx\n",
       "e3GGRw7MtujqsRr/esnB9Mppb/t1egcApw73EIRPmzCByL5kn0E7ZTUyKcSy5QP4zrvapSnigCZm\n",
       "JsA+YoXCnO7whHDEB4hUr29/s3pOhktYDwtKBK/EQdhLLTTIyywSXaDoPKnlqb8HAaqlySenbdEf\n",
       "t5cPy3fmXmcvtvqACIcklZaar/+FXYVP/9pt5ObEl7WftwLKDO+xXdiKc74YEHJvOfpYVxJd2aMO\n",
       "95l/B49QIUZAtVD/TGD6CsEAAAFoAZ9KakN/ACFSgX/+WlfhdgA7S5LulzQ7fCzpDGwINGkS98Tg\n",
       "EfgyK36WaneGyveos7/c0pLcxMa3Gu0+p1tMJpCm8SfwH1AvrzLk3EEwgJ6TAmt8FUD6HTMwaJBu\n",
       "w2IqnWABq2kjbcOyh65jwRS3wGHR/sLN7S40S3d/tpZVtLmkAmkbvTx2hp9A3ZqpXPL24IALE3mi\n",
       "1K/jYDJ7v0Mzr18XAQHjDtWA+Q0hDsYPJ8U6rpdkCXyN1sMG4ELKzVx50xZVK29o/BLbrpS4XIRH\n",
       "oQgxIjTmcGv4vymCwsY9WkcSjV1UX8jnnGLj0ee91iHwcO0klP6g38uZ2vrB+lRmWQPowraQl1Rt\n",
       "CypQE5iVfIQSENgf+XC/+q9J6mZTObIx6kUnckApMLBf2ohBBKI0zYA/3QtH2HoJ/PW7x1HxM7y5\n",
       "grM0mX4u5ZNNRVsByfmdH8wFqtlPC8tQsj0lnH/AAJFY3xvvI/xAAAAEkEGbT0moQWiZTAgj//61\n",
       "KoAGBpFBgBWSXz/LU2ogDVOYkPZtBwcQx9qvFq35qeo7ReR9YypLRw0b0mG6K2EiaKP5UUzE7zXo\n",
       "cIbXsckGg2+0jGeI5O5P5aNHyHdzLWHUA84yF3l+z+4RR+Eff5BnBgCVunx5Pe1Pz1ne0lmBbr9V\n",
       "l1G//S9HT66EXIwKAIJQEkXuD0zTF2Hh17yQ31ehqf4qmsHdyDCE3T8H6+Ec5eArT2QMyc0rrbCq\n",
       "O4GYPR1Jc/lVqOxPpCI8uzrBLPnoEQO5VIIUneWnTXRip+HKSrfSAm2rn2E/cMKRN9KH2G4gHCcO\n",
       "IPQvqLJ+ChTB5loV5/UiNHcztomjzaQ3AdNwFlIMnB8hvuHqK1YdJ4e0tevdM/Uq0r/cTzSblAta\n",
       "r6BhjP2/pHBpnn/ta1NoCSNEkgWO1Wo1jyohTKLleop0oVWAiyPsal651Xy2hS/M52qXbE+s51O2\n",
       "7DfghExOFwDuSI4++nja3KFK4PA8HJqermUuQhamn3aZGMDoyhEOK49i88XkObWYWUP0Toi/5piK\n",
       "ITkU6F2ztDTvCKoP57t+4GuKGpSSQsNviM9k44Y8souGkOWpqA7dMYZTFsBvYBrAcHTtYSauAqUF\n",
       "CfFn/E7WFciwuo0jxYlPkssq+RPzPkc9tep1i2hCw8A795ev88ywAPEDeiAR3AifkHz5SpEC6gF/\n",
       "ZtrxKrgubrSbw+PZSOLFY2wFTYywoSAHo36s+DR/u1k0cnHMtraSI88SPtkv+Zv2NYXwt/ph7GDy\n",
       "mYu11VARirWFEn1lRk/o9ZSLiv4Um5GOMHUjKrmqBBej6Es462M/07mVdFRvJs0+OKyrlh8ZrhSu\n",
       "xi3/SFCxjFZvZJnuvLYaZ2bI2MbrAJCIV+CVVqtJ0cG9l275BWUxssKcfvN+IfIPm1uVIGwaj7/a\n",
       "/ceGe9Odbdf4z9Wrv2V471o1bVYD8EE4nZjGCEs1yY7K5p2xqripESreRRReR8ipnCLkyzo+veSU\n",
       "EWnFk/PH7Hu+or8iVpaRlNB9IXmL5Un6FPyVoiymHm7nQLkSa+T5y9nc03p1sBsN7Mm78XWf1M78\n",
       "0HyCgH1M6rVRClhkdkJwlQfakO8hHpGKUWBxRuqvedsJgMQieIBUmBLWDAMqAA7SKsCrsNb9gbLG\n",
       "UQkERIludi8JWA2Hc0faHz1g3/oR1yXDoeXPgNyE7cHimhZtBpGjiMiAXMYjNe+YiBBkVybPavN1\n",
       "qWXn8aakvDJPxZM6PdVKrldUAiXD0xsgRuejoZ2VilWOMkmdvABJ+WSw464YLM5coTS70SuV+nTe\n",
       "ZU+3ae88S2HK/nACVPo0GzOZKN2QvcGqHXiJXN/nFeCvzamTjW8Fi708wyvI+AmhJtRocRuomHi+\n",
       "ZZ2t+bZTEGjxf8scPlN+Vfgx2Iv/Oek8zHl019GPRVULe6VxOJLf/zhhNEaoN2djDE2EpBZz9LW/\n",
       "Gm7Ua9667swSnylP6rxJOzp6PoviIBbOA2pIVx5hrtJSbHyQgfcVn0qqfIToH7bcmUjcnwqM0Gx3\n",
       "DXgIeK+JJXgvYFjsReAAAAIOQZ9tRREsO/8AF3VewA6ADapYEQFIfqKsAYOSxL+FcNS4l/Y784NT\n",
       "19KU8MJKFsUjvhYGqPW6RFSIjdRfZw/udBeVQN50X6pt03h+ea3xdtxMNeNqT0hd9JDAUGv8ZNrW\n",
       "CRaGzeZbqoHw7Gc4Fmc2Q1Ax+b5iHUKzCA0QT/p9JONgCXbsQWsN4NvwM6jEzJdFLDjynoBRCgRj\n",
       "CcHfPY8lAKC0Y5/z+KDtdCHrYsg5Jyuhz4rpgRHg8j3Iu6hf6TwM82XRoMziCQ2dZisTzTphmu/w\n",
       "9O4+DCqcGE/1LWg70Wtzrb0UlHDq/SCagREakSBuEoTSfvnva4TfA2Y5hT7UmWb0T3lnwlswXbGJ\n",
       "wzfRpa1Slm6W1v3/nOn0Ot8DZIxQHkd2YnnE+h6UQ0Br1vhwjhzC2Z9h4tvIdYUPU3zWWq6BGdZH\n",
       "BL6xUfCLfW1Fk4CwT0DMvxY9XlV79R1ZwJO9AamaxL93cA4B6WEvqZMePpTfE1YarracRDhMQi5D\n",
       "Dn/1Z6QBrwbW1pWm3+/w8W21KAccDKwkzP3A35u0rGY7mIuO3tczLWIrv5phEpZqpvx5Ye2geIUn\n",
       "U439ijx8phe5nFZFkVcSLW658+dO9SoxkzcWECPz18MpG4b1P5Eb8rF+8i84m0gr+/R+LcJDLe3u\n",
       "F850Bv+MnrIrB03AAb+8mQ4RswPysk+oKTmC/vXvzwAAAZQBn4x0Q38AIVKCMeaAAFsZgk3+x+/u\n",
       "F9WV+H/OHGo0IA7enuO+gadseQEDfZXn+3KK3EMBY7Ss+ApVDwjlb0D9cq8k+VJlGJT8sqSZWiiL\n",
       "7Fz7msG/rFhkEhJmsVACDP/cjacpCuCvqLhwi5DfZsfNEYABEVvfmYQian4a006IPVPmUtvqugXr\n",
       "uAWZvwWC//5h9KD3ZVT1lUpZykuS1Qdvs7KJ0930LiKowLT/qIyaHL+F3E0x+SceSu6ERIfhGmM5\n",
       "y/uElRTyN1L1wmOlc+bYjjiUjUgZyaiq/eDCC3zMck/al2mX8eWve8RL6FV5SKPQ8u4ShkkWqtgs\n",
       "OQkOpM1bmM2tvIvR2hbIvKOpitsCZpDzhtYiQlLyZCrMuUWUsTvARoz3hB5JXo3v+s+Gv29nFpke\n",
       "aVMjwHC6ViZ+NgHbELMYilykEw6AuZvGqBMu0KFyub2JmhHnBmsQ4W0TB26xCGEaJmkZ6pfSDI4l\n",
       "NPriLhxoT2w/3e+kyVJYShJJRMKo6YmP/9TyVvcOJoAAyCT3Vyk+7QAAAbUBn45qQ38AIVKBBjIA\n",
       "S1cVrfzOwAMXcw2VtDvoqfxmBc3C9LnFhb5Bf0HPnwPEIfwGMQmcTB6W2sLUrDBu1Hx9Fcigsx75\n",
       "4FqPTniq4FaRMX12ws4TIod5bpbJLpAeCYvksLFHmChRuu/Dcyoq++jbR0stgEkzwPy2FQkb4C/U\n",
       "vLgLgYGURsLWahxKBC+R7HBdJhwv0SweTq9zTkhZrWRgxXxc0/D3JVF335jAk+rxy7cRYLlpEpDk\n",
       "aMJznnt1D3UHwLzw2dkt5oee1abkoKxbSScoOY/DU22MOGGaEBB/UqfKYTl9h2PYf9vvSUiLPBsB\n",
       "/tQpXWG0iK/w01SxmK04O5CWaYZ90bZgHu6yeJRKC7+sRav9gGwBdRNnBxrLg9tQympu115MmoPZ\n",
       "6P81/gGPOET46kaQt+MjBcf2tSt4WMSlw8SZO90c4ejSJ/227r+qf6js0tMlHgEvg68YYyv0b8cF\n",
       "1yG83CdoAhIaMWU+5b2ItHkJvKsnTZ0Zqa2r8FbXRzN0l4KoIEsrlhqxzFlViiRmYfh9VpMN1ixM\n",
       "sOPuopWCsQJRVLcCwAAcyIg61P2m8efBgQAABJxBm5NJqEFsmUwIIf/+qlUADGf40LdmVdGcFz3y\n",
       "AkyDBhn4PumpykMZs2fL5hYankurJN6KCoO/o+TQcBFnkaD97W4Amcz0OG3v7Q+LsFbrk4ualKrf\n",
       "25qvSsF81Xt0QQajTSCuGC3d8GZTZQCSPhfEuFXRm8awCIbC82KuEgKFppAsvnL7OEucv9BeqvpT\n",
       "odTx4cUAor3g6MpJtGtSdKDKhQ8UuelemROyo7fwGXU9k8SqWaNAFzD7URDShOf11mCt4gJ4qKfT\n",
       "bw66bVyBfKRr/BhsskvX6k/JYxU5M1l5SWNF0a42LB+7/fyNkEtnUK399L9rRu0bJ+IR52Zg6WVO\n",
       "sGsCTCnEWw2AZjQtsiBHuhVHA74Hm0//tVSJbkK0n6sCt4aE5jWgXpFVvE0ua1wcIjxiAiDlQ1qp\n",
       "01Uhiryhrs35H0Ko/3PXgY5qyV2y6HPygEQ9DSn4Uj3le09hc1uuXMssvZybZucTqtTTl1Xg5nc/\n",
       "z68MJmLl75J7CFe/CCG4T9+ym92nKAFk3/vJ/lwhoarqFFzmcjuB/HLrLN8YOzkHtBd//Ce6Ufd8\n",
       "9lvPrhohlTYpXt5VgftILL76xrvEHq9N5oudorMwuwHBKX4VedH/e5e4UXxaCaEFiD61vCTRK1sJ\n",
       "EIBd4qBWfnW0yrr9XeOr6uL+Q7RaBFd9a/BailgJCZwVUFUzJDwfwQEIXC34px4RbcvhMTy7uI66\n",
       "dgwHI1ufAxSUXiLfaS9x4AblCnjH7Q4IrqYRluElFCHiupuhnDAEu4K/Eja+SVFVozCAfDOwDqBY\n",
       "0r50o22d/ZjOPvqcDw+Ce07nzE9iYPPpdTy0ZHKixfELn9WflUqH1pD1K365heSGpFwmRzkQhzJA\n",
       "URek/yXIkaItGKNa80Atw9hkFHflRuGX/7V2n7giJEK2B0YUFclMODPbxDLFZmKNRhq/9TXsz9HK\n",
       "9jsPmGUMJZmizmGiIJKqOVXGKfAsn5ThtkGSjQeLfDAjskzQioo0rpcN5zEUNAWJiOZESqEhZojh\n",
       "vfZ2dxAPWsGhM0CQU2TXSbrJ9EpuryKo+M2RfNwOjbwObKlfVcppo5O09rgpWIwPnmHlsxsN8aHO\n",
       "fuSkbOuaCYx0OaMWqYVekKpNXS+PmHrxw4/ymG3B7Ij1xd/vPH6/WYszSi0US0A+B3r7Ra/SZRSg\n",
       "Z8A6ju9BchwAT6GJdWmj58Efd5vd/MjfUmRv+zqcfe9hOVwPQEICsPBQ01L+So0MFb3l4JQf8K5u\n",
       "i4JCxXUjI2uzLLfdFk3FqHbz47z1Tb4YkDPM0PtipMo0/aiQ17+0TXxH6DkIEyBjlIeNlkcYoFi3\n",
       "/zImrytpw40oKwpLROxiTiLUKC07CNDfKaP/dL3PHKkD2r0kAAbWMII0tHcwh6WyFoKPpjP6y7A5\n",
       "ckCUd7Ezxj5ceI4crExYOHnGzqK1DA52OEB4YFYW6glizrPBHluMYgI73KkhGbZTFWXJQf/2YjPa\n",
       "1z9lis+40HbCBsv0KAsZ1m8c274VXHRgm0YhPdXtLNMMcW1QgPwfN3LXbtK1aju1/yErby93fZH+\n",
       "wZIMjTCMP9Pa59dmAAACWUGfsUUVLDv/ABdqVpnCgA/h89o/3vjvoO8aAC8JiFbre/5amgA6lmQh\n",
       "qamBNu46qn1ktqWAsJ9MBH3Dk5R2H2fUJt+KA/NKBZFh1obW9JWIC9ZkIUW8hG1mOinAcs/4kh30\n",
       "IvIUH5mREcN8RDDMXEA/rUSGyLfE1ROW+nL+Rhn5TcSWcUzR0kPA//BQIRZr7Mm6MkU1NfYO+gLP\n",
       "NHy4zyBnCzEOxLtJ7ESsglxInerqQi4cUdjlEEL0bv7tszjDDlI+X2Ge3V4f3KjZ3TsgTPp0zoNe\n",
       "uebTLzsUHixDaa0w/LfR9jZmSVvjCfSNJCxfooR7DHVbOYhSZCPCknSxSh6eKbi2dTukFDr65Qmt\n",
       "eZlu0zhpftwjiSxVJzQSXrPfIOaXJE+Jz3+EZWqIVixftueFmnD777SN1Yd/Y36ZzOX0Lv2d2gh4\n",
       "KPv09FtQprhuRpzX2da2epa7gBzORq5eHgiau5tjHJPxFedfOBSaeObUku/ascEhSoZS5D+1jCF7\n",
       "SKJznR5bVYY20Qi7VYaB054DaAFfzcyBg9+oIV0cXY1+Awht0CaRzxzSMBoWjy26Q9KZYx1m+SbA\n",
       "0Ptl4AyqzBCKQeL4rogFPxcANHmOfV6WWtuFKy80cp4D/kJrQAROcToQlHerAy9V0EOonHs4SHjs\n",
       "XQyoIq5ys8M8+2W2Z4m1eg2FRdv/0tzuhRYyPJ1PM4Umq9fag0F1YfsHoYLNVxhu9CGeokGTOOBP\n",
       "9cLCpXWdEMQRO5Dyu/9c1ue99h5r1/9ZMI5n53z5u50XIjK1VAcD9R/AeQNQHXMAAAFtAZ/QdEN/\n",
       "ACFSgHK1BEgA/YVBdoPD8AaUnjEPKVl43hlaeCCUzzwO0mfX2H+AJXnj/h6Qw5nnUsk0bbmr4ZdY\n",
       "cXeQMMlM8lZLKXhxgHy3n7xmQDD6mxv7A8yO725RUpMhU9q0iTC1ez7WeS8die9yFQ4q7lDqGUxI\n",
       "D94gK5CPyEvUMWzzSztOZsVvS1cvWe/YbzEwCaMOz7bKwwmTdbA7KLbmNytC7j4RQ9ABso89jvoa\n",
       "OgfILuWCgiktvEFGfiE/7Ebiloiw9TUSt897dW7NGGozpBn6jn/KEjqLjFe7ht9HURjqMVzobKVs\n",
       "sKH49N5mvYN63SqSDm9KK7BvcJUN+nD85ZEjwSTM+qS4vEHSjRAVA6GWrs9pEzQukPCCDYE3lH7p\n",
       "ZHTpCAWiM08QyketzQLTz/IZjQsFZZgI20MJOAUpryT9X/ksgXaGQDkMopFAWcc3RyHep81qefLi\n",
       "2Lw84KwHvCypaaABw3OsRUEAAAEZAZ/SakN/ACCGMVxUkgA/jtiZ2s3OjdiYaBvGP5wZG3TSkxTB\n",
       "Dk90MXZ84UK9HbBZhbqfBwj4uPyI33h1QQqlK+Ury3gxGGnzmYD+IXDImw111ZX2WQRFj8bQEI9X\n",
       "WyxiQDiGyf1YOqakcH35oGTvZeBRhFXGwAbIfUxbgfiFO5Eo50ySBKnMqiezW13eoX7d8EWkq/Vd\n",
       "reG3y27Y6SNQ60EwX3+HTMHjrNP0QcYbuJ+fO1ShedNHcwdxRB70A6+DPpIHCtSs0Sg+hFBXKF1F\n",
       "SoirQdAfG23wH1y/alaGXlVqe1d0FObQIirBKJsZLw8UtEyZOiCKEjZHudvXFmPD6SsRFdrHMbuI\n",
       "1q0R7hc11JYzlnAANdvdPbAAAAK6QZvUSahBbJlMCCP//rUqgAYz/GhbtjteRpxiNDvrOASZMarE\n",
       "sICKTu4sS0l3DXnKJFCiNSwfsns4RPHgtzyeKASORCfkFZ/ck9e8lup+vmF2NjoTV7gfINKfDyf6\n",
       "3ejmHLty7Ok3SoW6OUkNhxLl1Rg/h4a7e8v++yZu+5nPbhSvFavExJBkImyG3C7xN/zunNPptMzy\n",
       "KBB9k9zX0NP+Va3J82JBpLvW1iM5XDb2NGDFbzYhzLY2B7cJD+iQPlaA8+fOrKBazslwENDHDVNh\n",
       "Rzy3i8K8RBUffBaGmwGfoWVt8z5PJG4XINGW+R8G7uhwZTJ04RGayE4swww6QWQsV6rY8j7JHZ2C\n",
       "/xdF4qKE+/DIXIITTRSkiPw6m6Ne2qz5A2qugTblrNPQCs3K9W1PgL3lwBDWo+0Ge3P1uT7rnHOH\n",
       "oINVhG1XazYFaBY0pvZAxw52SASgUODeCfXAlgPUAWjbGt4pBGYhzxGIEIXPT8H4Ljq+EBJz5qNJ\n",
       "mFn3EQ7Qu+FKpnBEt1Wc3RbJH/ikvMzO6xgfYVAArBzRfemc5Am9e6a1IIABOHtbrDgCoC9xKy8k\n",
       "gkpoIGhyg7094NXPgZ5YvAFZOajEKnmAGp6KjRa80fKGkhASRcymyZD1/7ITCJbZbAuJNKx7kchV\n",
       "+HydnOeZ9BlH6H389DF6SPPDYRXwJ7hnRMr0sg/B98u8D1n0qVjP+rJTH6t8LGiEvnDW/8rRbD91\n",
       "4dy/euYGHpspfRWGSFtcs3eZj9zlz02/TyOIDd3BsG2a73ZG7pfHdwIiN6Es4uXO0EE7qAg1b8Ra\n",
       "rwkZCKlu+aYxvv3e+OrGY/m5y6SWm+Q4nQr3IsvtPIPl3VzHQ/oV0a7x1miJD1t1bGniD7LMI6Qq\n",
       "7pgTPaf34pfrbXGM0+R5+cngdXXNaEe288Rvwct5KU18m4AAAAQUQZv4SeEKUmUwII///rUqgAYz\n",
       "/Gha00iiKU2ej/De46CSHojmjfis906Fq3y1Wnq4XJ38oj2IJlS8otnSXTXBr4NW+z03xnuXlcac\n",
       "YHzchCCcxiBfMwCOetDQIbzQhgZNN1JeZUEBKIw2ZDjUBcIbQ5uYNAm1BaqyjyET9ipYY7zJsaew\n",
       "7Wnz1EiwWrTarcWinqyTJioCR4ft2Lv1R/LNk9dGpCnCyGZDnd7OshsvhAyvqbj592nBksgtCtw8\n",
       "xreI18nbpEagalGFeon3rSO5ftMBQ5QYquEe30QrF3irrIDl9JHgMRMvODOe3kDiMSWiA3jCQNJc\n",
       "LGyEKGoT7ng90xoNFPjWQJ/+c1dl2R3aHXd1s6RdgYFn+1XfTpp8auLoyqEbA5rnDl0CCayHnpzB\n",
       "PLehIvdwEpC5sygGBGM1NPqmSsO86HGQP/6Ga3korzxvcSLSFb6olH/6nsazaqxp3l7rLRLlZrFl\n",
       "KWIZfOqpG5LY7v7TSI2NMGfTX2xl1Hj84VeRvZGkS1w1+9Jri/NElxs5saZs8yE0K+7tbBTZ3Fom\n",
       "kbgKerCZbLGcaM2pPzV7k2A52dZjDENpK9gH69dsjO7kb7rllr0zPyRavaFikYY8qRXaqi4a7i6M\n",
       "5dtrbzXi5KFS1EpJJTxW5KObDypi3ubQamYU63tDO0I6f1RIxQiI+ppcvrh+nCMKZ5E2q3ZHNUS0\n",
       "tGdb4CVRrOp7cP4RznwD5U7AzhA7fmUk3cUq9MrZ9lJQUfTxxO24y8UnysnyO8gp7j0VLouOm8uY\n",
       "3VLOsHStkZAbHeYDZRv72fzy40Ui1XXYwAghSweh97RZjdVddzHMKceCwsZ9T9wfOE7qnt+NjwF/\n",
       "eHu+fyRLDjqKowrliwrmHsYPRHa016VcvsfSgSe2MeRqYC/S2iyNhULF2klICxC5YvEVTic1PHxb\n",
       "uhBnvaeF769FUCo6gJG+8j6DEIer2pKpbghRc0EtMJ0sPEdDq1Ks0l77cj3r/v0s0z22LuijIy++\n",
       "101R4WktdabQGLsZYfktfc5DGw/aM4VgA4VgIx5U+IWHMbkFTg3NQfTIgMhx8DRN58GVId+2cScw\n",
       "XZ26cvT/aAn4L2xIxA+Ci0Vz36kZmz0FwsB1/HLqKu0vylkctYxIJaw4/4Y37PhHAS5zm6SRVDm0\n",
       "3HbQiEN556mcc3175/T0MPVRqQMFyfnUPGgEgt73uhxAsDcV+LpWLXraNhGUsMlbxhxxyppIp8WN\n",
       "L4o0JyKirlK8Cq1vms+f0K10mzGMn8fUAqrREiCo+WlMijAf75kLeY24KZiU5BZUtZJ62KqabZi1\n",
       "MNBLUw4cFEyNNmVxOpYl65WyGaZ118XFUk9TgM1qJQiSI7wZY2hOpGF3aEEotcq8F+hqOfWOUt/B\n",
       "AAABY0GeFkU0TDv/ABdgqtOogAfojkpm+IYGPQLjxBHA/UGoBMnrlQSIfJ16zR/mkJ3Ys9ido5J0\n",
       "3TeAQ+3N/JSY1pMNq+MM1HoivQ2DWCOiwn5IqX5uL64/tY1JG4lga4FkdX7nAUhqebuAufYhgplZ\n",
       "yAlFr4TzVSy46cdVdsFLq9G5Fx07NkBVZc7bPND7uL4R8aMzAF98JPsgf83qS1RNRtZ/AF8n4M8M\n",
       "9udm+6yK9OZZbGQE5BqefPp3hYh1+aqqiMO/rmuKrwXVbr8uNJlguCkmWaPZARe2S/coWv5eaKO9\n",
       "VHSmtZpzDqB07cBoiqZzkaOUGuvYNGkESbaXIY5fWBDWxkm6uFOb8FJmKBIVgSZ6n8/kpkMnHCbN\n",
       "nbZs3MvSedZuICV2+qGqDpCKgUKpS81Ax3eEqPjM77P4mDVLilRLHqc549ZZGKxMsZqJ2upK+8fm\n",
       "QYIh+7034U08XRzwo+BYGvAAAADQAZ41dEN/ACG3gZw8SADaWyu1b4OAh9l/yetn17slGSvoOdpN\n",
       "55a9Pd+99G56N0EtXPeszsODsCf1cKJx2xYXcL/xvY5WB9EBrdsTtutAcLI2hXcx+rLivznY1qB1\n",
       "iNe4jNfVqfwE3mvHrsqQe62QEP5x72HwHW6i8mF1HYBHIIWcEzx7CgxBmXyg9YOH4+fbYdwOBkrw\n",
       "3W6qepmqKRh/rbuKckvs+qbNM7JeVICGZjSKsN779LcJXjDc3OSAK//Atj748jUoALn8N+bXWe7q\n",
       "4QAAAIIBnjdqQ38AIbGdwjlk3ucy5PXNgBCdYTId/Z9tU5WIjskG+E9c8eNwTG0Wete+XL3fgmgL\n",
       "wxgNXT/LUKo2qMTw+UrdkGr6PnE3ovoSTlZ7+OvsH8lyp/Rl129gSPKdALpmY6D0ZdJP57wSqDFl\n",
       "asGSUwO6t9CABGgAKAfUFeyoAjelAAACj0GaPEmoQWiZTAgj//61KoAGAmnLABuecUxOCRq3K9C3\n",
       "qsZUL1TY+wzOi4mZA6xHPXb7A2v8pdlyaJOohN8G2kCPDL+B3etXxk45yF2MbHXydEx1RvoTalXv\n",
       "u5ur6uuwi6OcQa75wPNrsL4NiI1eBlZv/aRz9pAP+qfJBKKqRJVe5zQbzjaB8XVcwxw5GSBrZPs9\n",
       "O1LZGYTPt5rEug3J0JaxeeVI1aVXlapbGdKsVvRpOGudZ4SyhQTqvslRtopv/4JbA/R9sCZdi5r4\n",
       "sjHrSPma3WlZCn8WPcuXJ8HQ/jR+xdbHApJXIcpgaX4ui69i/y6mxPpGgyBQYdBi1TxNbNe2cxhR\n",
       "I2mYO0v7xJiKeP0kHYFkekagNogqkisFzSSxiLfmnJ2UoGhXMwwe+u0I7gDXT0k20OOeGgulP2k+\n",
       "E8Dtfi0DUwZiNUO0ChZlbG5HY+1KmP/eRsdFQPmU8zYczDRmSn45ldhglD/Wz9hdJ99JFPGxFv0G\n",
       "9mZlzcX+Fcjk2fVfB6JMp/lJdUzFtpsDNEj+VsmWWqoNFXMdo+npbd0gF129ppkQO3uToRhGlG8p\n",
       "sbOhXS/TnPcVW7EG2dnyH8e2t0U5uaDyPHzVVo05AoQTx7z0QpkSwOmr7H5/RA9K+9B7QmdQ836X\n",
       "l7QP5D5uN3KYign9Q/oRV8d0K3lHjE3CQpq6QhHawb/MZynOioiwK70hoLtaZOA5D0G5KdNc7sgE\n",
       "haUsZGC6fBg+XkxIvjlSxixd3gh1X1rEQv98qhhsRLogK8+93TVVnpybuul1mKg8gFnhkGzw21HM\n",
       "nGvG6N6njoY1wcDqEczvYqLuksshFZwc86DyCcVtnzc7AEyd08H8hm0ip+brENzOCS9GE4AAAADL\n",
       "QZ5aRREsO/8AF3VgREvii48cG+YP86ZgACdtTapukjBlh+DQjwW289tEaJI0ruo25xEUfeATfrZo\n",
       "e/I38P10yvKwJnrBB+Y1APpYPTymxdHSQce7aMDg0VtFtyH3v5L5bkg2WnQoi6mjAk5kgV6YVe4V\n",
       "MBZ31MC+KlbuVmqw91N0gbkr3oWb2WLA3WUUvyvNf5IUVIXU34QMWM2TRkQA6oej8hwzbyn7I+qP\n",
       "Js+zc903hwLGn+bfIamvzzgU6XgttKzqQ8Of/EWv1PMAAABIAZ55dEN/ABCpAANIUWGt2ADsOAhg\n",
       "l7HOiWj7reFv1C80l842YBt2vTyL2S5hOu9GUCxnxWeZFIeHIviNXv+AAEDG3yc11zfgAAAALgGe\n",
       "e2pDfwAQqQB4nhhdjs4ZXjoS8coYAND/LFq8Y75m7tGrSPUAA4Eb7/0PPD0AAAJNQZpgSahBbJlM\n",
       "CCH//qpVAAxUUW5zGPFOARjAFRtQzwjooI2NfNZtn1s5GLxwia+x0q57uQe4Ipxd3EJsO/5jmHS6\n",
       "RYovG94frvn9Kc6GHNd6otpsPBQsfGWpDxbkxlAOTD9/2XmufHCRtAqL3xbkaslBzxTIsDZgV+pT\n",
       "M1hwdt5NF/Lo7wBsCUpixC2fDEctNpwdmmuyT5br+6sa+3MQoK+9/feq2JY6ZiOfTWQCzYvHXxGB\n",
       "JwILIp6chKMROAxAa6BqZ70TMQutNgaiwlbj6Gw1WUeZq0A0gWdNOuq8ujoNEDoTYCcLgWKteLka\n",
       "zASrHTwYGrLOBTNaEAoi25Mxa5saINdUuh8Iih//vcdYANoM5ilArbbaQXUfhLPUzc7uzubH7u+L\n",
       "DeJ8lu0FfFCcVBXHIv4h9QkGUkaxrBxmFB4/JUS939seFXSqpRn3+06id+PQqWNOhFy8rN1cVTtR\n",
       "UJ0jp7oEiPqWO0OwOv3eDPVVKb4pbfem2v7J5PH57z1BQ5bML+jE2CVZudCQ3Ytl63d0uCvbChcs\n",
       "HKPp1NpyzovCDlbDGE2T/2DVkcui5rahQj0NXkKIW4fF1r9UIqK3FfUCx520hOc6ZqgNI+NmsmaK\n",
       "3tY+7zsfKVqTAgwMpIVFI+ddXYTr28NOFPS87xPATDU8xg1vtSofYG4jmq3jkGQvjPDyg4jHEyRj\n",
       "AxCYKet56c2jLjHQ55qcsEuVmc0ELt7x2d1gS+qUN8Mldw6fIFjTFwTn7PgxCv7i51KNKN3V5Gh3\n",
       "C6Jyz6mkEt0+PQAAAKNBnp5FFSw7/wAL5tdXA1Rgr8HWbNWgA0wd48L+qfJspYlXtHck6Y3bj7B2\n",
       "9ijlqCOL4mHfL5vox92CjzDhpT4m9s89uyVRxYdMxIEr29vZ0KEOop8gc1vTrJcNJBGxdwOKaBYh\n",
       "Kx7V0Vcz1D/LLlFLdVbsvm0pK/xRBRtxDa/XRKg20TDaCAJJMU6ZyV9MfcKTTyiLvqF0+kzAIAGE\n",
       "gf41B+grAAAAPwGevXRDfwAQqQAKpYUAISo37e3z2H7fr5yM5sH//f85CfCa7+MENnyYOmFhg9B0\n",
       "/g1DBWp+wAE7KvyvD/TroAAAAB8Bnr9qQ38AEKkAB4xQStz65cUT5AlbQAB43dNHBHBRAAAB20Ga\n",
       "pEmoQWyZTAh///6plgAwEn9qVQgAuWv5YAJQ/OptSG5vb+V26quOl+7lODouzR93ubQJVx6witUl\n",
       "enAPR9bGf5YU9aLjm/nyQCdcA+hqEPqTu3whQ+UZRAHpNc3lP6tH742syAIYhV1ovtfOAlCro02d\n",
       "DYLeQs6X7qL5LhchuZc6tRqRsuYye745zrKTM6DpVCydP3kmmGLejHtN/vYQnEg9fgqXM17CLXuH\n",
       "IEL7JrTzlb88dvox8BCN2zuulaYXEXzb2KTGrDmmPhxJTn+jEU/AgkZyhMbY9pMSAFouB3f1kXan\n",
       "S53xF4h23IXOiqXKwcZZ7OPxHApqod5jbINxk5WWKX3un+SreOcs9F9qq3vVdweZKAFG09WkaNWh\n",
       "rR31pDoCUrBEQ1coMArJNYJxwAAiSzGncaFn09LiSfRms81bymgH0h6sxVbMYoGxYeUwgyvGzjHp\n",
       "8GuwtDucmQWUmpxokG0gUxpDybsbXaBYNTLmvFTYwigZe7uPYzQcR3/KO/Phn3ECt/OWwcyJqkZB\n",
       "ugMkGlHwwtdQAvussLYKmlcUQVU29fr5kP/6fRJ44W04uSyGnZ1LYvtDwewK5BXmPdE0Da05IvNd\n",
       "GJOJ0j3ybUflk4Q2Dl6j/rAAAACdQZ7CRRUsO/8AGLJAHdbTn0K6AD+a50EuzENT6mA1HZW6HFAb\n",
       "zyCSolQQGyxJ0y+JOqAvmx7eJIjJRAH0DWkYlb8an2oIIHuP+73lvYXMQJQ50Nx5YKlmci2MTVNN\n",
       "zcZk6VYcIJ9lhdzWe3ovA58KUPcYP+APLqELJS2lz8/TqsL5Kvti1SxgPFdFnF4cWJRt+e1aMwAv\n",
       "ob/BpL1OkQAAADEBnuF0Q38AIbeRQS7hu3BrkqZsCk+W7aRXEIgA7FWh+yj2ZiaTIQs0AAm0G+iP\n",
       "+wQIAAAAIgGe42pDfwAhuRlW+4JkzyuPAcRfiFqvg4+QAAgdQkasB2MAAAEDQZrnSahBbJlMCG//\n",
       "/qeEAFz0BiQAbLfLkP77KfTbmsQ0o3BqlVS6L5/5I8NJrnrUzeNXz4ZSeAC0ZqZuUdTp9ayRnros\n",
       "iVj/pqjhyVuMsez87tJeWdYof6DDqYfrkQAWB6rtwFKfALF6+zY+x3lwYd67Pnykm7mzyBVlw/9r\n",
       "APaKuIISWVE1pn+Hhjvy1VPpRGkIzR+iBo63gaMJS5XWSTwC90T1W+qHzByo9XCQDfMAC1W32Uo7\n",
       "chZH/rA9bAcltWY1dd3gEeWvWq7yzBDq+Ik0+FXevSkVdUZpfm6hfJZdN3TMkqYz2/BPHcMx5AEC\n",
       "7sV/uw6KxJ6OUdKLNHGutEYH4QAAAEpBnwZCG/8AIrkZUfuCH8GRQnuPxlToZ5JfzQAiDXG3Vr37\n",
       "/tQ15+GzQPIqjH5LzFUQX1HBdFCiJJa+o6q/NdiYbNJ/KEAFzj5AsQAAADIBnyVpEN8AILXstsXq\n",
       "iCWPkF/YUAISsumVzqesby89/s0TMf5hlBqIXBOmgAByt95sUQAABNdtb292AAAAbG12aGQAAAAA\n",
       "AAAAAAAAAAAAAAPoAAAPoAABAAABAAAAAAAAAAAAAAAAAQAAAAAAAAAAAAAAAAAAAAEAAAAAAAAA\n",
       "AAAAAAAAAEAAAAAAAAAAAAAAAAAAAAAAAAAAAAAAAAAAAAAAAAACAAAEAXRyYWsAAABcdGtoZAAA\n",
       "AAMAAAAAAAAAAAAAAAEAAAAAAAAPoAAAAAAAAAAAAAAAAAAAAAAAAQAAAAAAAAAAAAAAAAAAAAEA\n",
       "AAAAAAAAAAAAAAAAAEAAAAAB9AAAAZAAAAAAACRlZHRzAAAAHGVsc3QAAAAAAAAAAQAAD6AAAAgA\n",
       "AAEAAAAAA3ltZGlhAAAAIG1kaGQAAAAAAAAAAAAAAAAAACgAAACgAFXEAAAAAAAtaGRscgAAAAAA\n",
       "AAAAdmlkZQAAAAAAAAAAAAAAAFZpZGVvSGFuZGxlcgAAAAMkbWluZgAAABR2bWhkAAAAAQAAAAAA\n",
       "AAAAAAAAJGRpbmYAAAAcZHJlZgAAAAAAAAABAAAADHVybCAAAAABAAAC5HN0YmwAAAC0c3RzZAAA\n",
       "AAAAAAABAAAApGF2YzEAAAAAAAAAAQAAAAAAAAAAAAAAAAAAAAAB9AGQAEgAAABIAAAAAAAAAAEA\n",
       "AAAAAAAAAAAAAAAAAAAAAAAAAAAAAAAAAAAAAAAAAAAY//8AAAAyYXZjQwFkABb/4QAZZ2QAFqzZ\n",
       "QIAz5+EAAAMAAQAAAwAUDxYtlgEABmjr48siwAAAABx1dWlka2hA8l8kT8W6OaUbzwMj8wAAAAAA\n",
       "AAAYc3R0cwAAAAAAAAABAAAAKAAABAAAAAAUc3RzcwAAAAAAAAABAAAAAQAAARhjdHRzAAAAAAAA\n",
       "ACEAAAAIAAAIAAAAAAEAABQAAAAAAQAACAAAAAABAAAAAAAAAAEAAAQAAAAAAQAAFAAAAAABAAAI\n",
       "AAAAAAEAAAAAAAAAAQAABAAAAAABAAAUAAAAAAEAAAgAAAAAAQAAAAAAAAABAAAEAAAAAAEAAAgA\n",
       "AAAAAQAAFAAAAAABAAAIAAAAAAEAAAAAAAAAAQAABAAAAAABAAAUAAAAAAEAAAgAAAAAAQAAAAAA\n",
       "AAABAAAEAAAAAAEAABQAAAAAAQAACAAAAAABAAAAAAAAAAEAAAQAAAAAAQAAFAAAAAABAAAIAAAA\n",
       "AAEAAAAAAAAAAQAABAAAAAABAAAQAAAAAAEAAAgAAAAAAQAAAAAAAAAcc3RzYwAAAAAAAAABAAAA\n",
       "AQAAACgAAAABAAAAtHN0c3oAAAAAAAAAAAAAACgAABdIAAADUgAAA6oAAASFAAACuwAAAlsAAAIu\n",
       "AAACIQAAA/UAAAHjAAABFQAAAWwAAASUAAACEgAAAZgAAAG5AAAEoAAAAl0AAAFxAAABHQAAAr4A\n",
       "AAQYAAABZwAAANQAAACGAAACkwAAAM8AAABMAAAAMgAAAlEAAACnAAAAQwAAACMAAAHfAAAAoQAA\n",
       "ADUAAAAmAAABBwAAAE4AAAA2AAAAFHN0Y28AAAAAAAAAAQAAACwAAABidWR0YQAAAFptZXRhAAAA\n",
       "AAAAACFoZGxyAAAAAAAAAABtZGlyYXBwbAAAAAAAAAAAAAAAAC1pbHN0AAAAJal0b28AAAAdZGF0\n",
       "YQAAAAEAAAAATGF2ZjU2LjQwLjEwMQ==\n",
       "\">\n",
       "  Your browser does not support the video tag.\n",
       "</video>"
      ],
      "text/plain": [
       "<matplotlib.animation.FuncAnimation at 0x7f4377477f10>"
      ]
     },
     "execution_count": 25,
     "metadata": {},
     "output_type": "execute_result"
    }
   ],
   "source": [
    "fig = plt.figure(dpi=100, figsize=(5, 4))\n",
    "plt.scatter(x,y)\n",
    "line, = plt.plot(x,lin(a_guess,b_guess,x))\n",
    "plt.close()\n",
    "\n",
    "def animate(i):\n",
    "    line.set_ydata(lin(a_guess,b_guess,x))\n",
    "    for i in range(10): \n",
    "        update()\n",
    "    return line\n",
    "\n",
    "ani = animation.FuncAnimation(fig, animate, np.arange(0, 40), interval=100)\n",
    "ani"
   ]
  },
  {
   "cell_type": "markdown",
   "metadata": {},
   "source": [
    "The avg_loss reduces and our final guess for a and b are similar to the correct values (3, 8):"
   ]
  },
  {
   "cell_type": "code",
   "execution_count": 26,
   "metadata": {
    "collapsed": false
   },
   "outputs": [
    {
     "data": {
      "text/plain": [
       "0.1893"
      ]
     },
     "execution_count": 26,
     "metadata": {},
     "output_type": "execute_result"
    }
   ],
   "source": [
    "avg_loss(y, a_guess, b_guess, x)"
   ]
  },
  {
   "cell_type": "code",
   "execution_count": 27,
   "metadata": {
    "collapsed": false
   },
   "outputs": [
    {
     "data": {
      "text/plain": [
       "(3.5987, 7.6344)"
      ]
     },
     "execution_count": 27,
     "metadata": {},
     "output_type": "execute_result"
    }
   ],
   "source": [
    "a_guess, b_guess"
   ]
  }
 ],
 "metadata": {
  "anaconda-cloud": {},
  "kernelspec": {
   "display_name": "Python [conda root]",
   "language": "python",
   "name": "conda-root-py"
  },
  "language_info": {
   "codemirror_mode": {
    "name": "ipython",
    "version": 2
   },
   "file_extension": ".py",
   "mimetype": "text/x-python",
   "name": "python",
   "nbconvert_exporter": "python",
   "pygments_lexer": "ipython2",
   "version": "2.7.12"
  }
 },
 "nbformat": 4,
 "nbformat_minor": 1
}
